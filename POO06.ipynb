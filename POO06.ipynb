{
  "nbformat": 4,
  "nbformat_minor": 0,
  "metadata": {
    "colab": {
      "provenance": []
    },
    "kernelspec": {
      "name": "python3",
      "display_name": "Python 3"
    },
    "language_info": {
      "name": "python"
    }
  },
  "cells": [
    {
      "cell_type": "markdown",
      "source": [
        "#Actividad en clase y actividad propia\n",
        "\n",
        "Clase madre y dentro hay las clases heredadas. Dentro de clase madre o clases heredadas, hay polimorfismos que son funciones y definiciones. (Multiples funciones son un polimorfismo/definicion). Definiciones creadas para calcular algo es un polimorfismo y dentro de las funciones hay variables.\n",
        "\n",
        "##Crear una clase\n"
      ],
      "metadata": {
        "id": "utqEzGZjZTz1"
      }
    },
    {
      "cell_type": "code",
      "execution_count": 7,
      "metadata": {
        "id": "rpkq-5NtYXdK"
      },
      "outputs": [],
      "source": [
        "class Mascota(): #clase madre\n",
        "\n",
        "  def __init__(self): #init es la función que se necesita para empezar a definir\n",
        "    print(\"Creamos una clase madre\")\n",
        "\n",
        "  def adivina(self): #adivina es un polimorfismo\n",
        "    print(\"Hola, soy un perro\")\n",
        "\n",
        "  def hablar(self):\n",
        "    print(\"Ladro\")\n",
        ""
      ]
    },
    {
      "cell_type": "code",
      "source": [
        "mascota = Mascota() #para que diga que ya se creó la clase\n",
        "                    #Mascota es la clase y mascota es la variable"
      ],
      "metadata": {
        "colab": {
          "base_uri": "https://localhost:8080/"
        },
        "id": "Pbg459FOdYlD",
        "outputId": "090391ee-0370-4b41-f0d5-8a8dcc463307"
      },
      "execution_count": 8,
      "outputs": [
        {
          "output_type": "stream",
          "name": "stdout",
          "text": [
            "Creamos una clase madre\n"
          ]
        }
      ]
    },
    {
      "cell_type": "code",
      "source": [
        "mascota.adivina()"
      ],
      "metadata": {
        "colab": {
          "base_uri": "https://localhost:8080/"
        },
        "id": "kP6D6Fvbd1s_",
        "outputId": "aec0d609-fcbc-4b0b-f4df-cbeab1c5fbc2"
      },
      "execution_count": 5,
      "outputs": [
        {
          "output_type": "stream",
          "name": "stdout",
          "text": [
            "Hola, soy un perro\n"
          ]
        }
      ]
    },
    {
      "cell_type": "code",
      "source": [
        "mascota.hablar()"
      ],
      "metadata": {
        "colab": {
          "base_uri": "https://localhost:8080/"
        },
        "id": "Wlx0rBPeeCeh",
        "outputId": "0ee169e2-0cbd-4968-d8c2-04892b621058"
      },
      "execution_count": 6,
      "outputs": [
        {
          "output_type": "stream",
          "name": "stdout",
          "text": [
            "Ladro\n"
          ]
        }
      ]
    },
    {
      "cell_type": "markdown",
      "source": [
        "##Crear una herencia\n"
      ],
      "metadata": {
        "id": "JHFMaenJgrfO"
      }
    },
    {
      "cell_type": "code",
      "source": [
        "class Perro(Mascota):\n",
        "\n",
        "  def __init__(self):\n",
        "    Mascota.__init__(self)\n",
        "    print(\"Creamos una clase heredada\")\n",
        "\n",
        "  def nombre(self):\n",
        "    print(\"Luna\")\n",
        "\n",
        "  def adivina(self):\n",
        "    print(\"Golden\")\n",
        "\n",
        "  def idioma(self):\n",
        "    print(\"WUAF\")"
      ],
      "metadata": {
        "id": "rsw-10fPgt9U"
      },
      "execution_count": 20,
      "outputs": []
    },
    {
      "cell_type": "code",
      "source": [
        "perro = Perro() #llamamos a la clase heredada"
      ],
      "metadata": {
        "colab": {
          "base_uri": "https://localhost:8080/"
        },
        "id": "2Vo2yng2irtE",
        "outputId": "7a2c5a51-5171-478d-9eba-0a5032a147b4"
      },
      "execution_count": 21,
      "outputs": [
        {
          "output_type": "stream",
          "name": "stdout",
          "text": [
            "Creamos una clase madre\n",
            "Creamos una clase heredada\n"
          ]
        }
      ]
    },
    {
      "cell_type": "code",
      "source": [
        "perro.nombre()"
      ],
      "metadata": {
        "colab": {
          "base_uri": "https://localhost:8080/"
        },
        "id": "d5bBLWfaixbX",
        "outputId": "b1fa4aab-32d2-4b8d-da16-5b6c0a2fe85e"
      },
      "execution_count": 11,
      "outputs": [
        {
          "output_type": "stream",
          "name": "stdout",
          "text": [
            "Luna\n"
          ]
        }
      ]
    },
    {
      "cell_type": "code",
      "source": [
        "perro.idioma()"
      ],
      "metadata": {
        "colab": {
          "base_uri": "https://localhost:8080/"
        },
        "id": "c3ZKZPNfi3sR",
        "outputId": "65661a76-f713-4c75-d7fc-eb9eb76c8878"
      },
      "execution_count": 12,
      "outputs": [
        {
          "output_type": "stream",
          "name": "stdout",
          "text": [
            "WUAF\n"
          ]
        }
      ]
    },
    {
      "cell_type": "code",
      "source": [
        "mascota.adivina()"
      ],
      "metadata": {
        "colab": {
          "base_uri": "https://localhost:8080/"
        },
        "id": "SFQI11mvkms3",
        "outputId": "b3b9a720-8f9e-4e70-d663-e67c89986556"
      },
      "execution_count": 13,
      "outputs": [
        {
          "output_type": "stream",
          "name": "stdout",
          "text": [
            "Hola, soy un perro\n"
          ]
        }
      ]
    },
    {
      "cell_type": "code",
      "source": [
        "perro.adivina()"
      ],
      "metadata": {
        "colab": {
          "base_uri": "https://localhost:8080/"
        },
        "id": "XUSuouZmkohh",
        "outputId": "c91bbc62-f6fb-4bf8-df24-88d4c384d55e"
      },
      "execution_count": 22,
      "outputs": [
        {
          "output_type": "stream",
          "name": "stdout",
          "text": [
            "Golden\n"
          ]
        }
      ]
    },
    {
      "cell_type": "code",
      "source": [
        "class Yo(): #clase madre\n",
        "\n",
        "  def __init__(self): #init es la función que se necesita para empezar a definir\n",
        "    print(\"Creamos una clase madre\")\n",
        "\n",
        "  def gustos(self): #adivina es un polimorfismo\n",
        "    print(\"Dormir\")\n",
        "\n",
        "  def actividad(self):\n",
        "    print(\"Estudiar\")"
      ],
      "metadata": {
        "id": "EK08_lm7mzvr"
      },
      "execution_count": 25,
      "outputs": []
    },
    {
      "cell_type": "code",
      "source": [
        "yo = Yo()"
      ],
      "metadata": {
        "colab": {
          "base_uri": "https://localhost:8080/"
        },
        "id": "_qpavCUBnBEY",
        "outputId": "19998d88-aca6-4a5c-de70-d88483c7856b"
      },
      "execution_count": 26,
      "outputs": [
        {
          "output_type": "stream",
          "name": "stdout",
          "text": [
            "Creamos una clase madre\n"
          ]
        }
      ]
    },
    {
      "cell_type": "code",
      "source": [
        "yo.gustos()"
      ],
      "metadata": {
        "id": "460k_qYAnI3x"
      },
      "execution_count": null,
      "outputs": []
    },
    {
      "cell_type": "code",
      "source": [
        "yo.actividad()"
      ],
      "metadata": {
        "id": "soY1r6F7nL6Z"
      },
      "execution_count": null,
      "outputs": []
    },
    {
      "cell_type": "code",
      "source": [
        "class Estudiar(): #clase madre\n",
        "\n",
        "  def __init__(self):\n",
        "    Yo.__init__(self)\n",
        "    print(\"Creamos una clase heredada\")\n",
        "\n",
        "  def POO(self):\n",
        "    print(\"Me gusta programar\")\n",
        "\n",
        "  def Calculo(self):\n",
        "    print(\"Soy malo en mate\")\n",
        "\n",
        "  def Economia(self):\n",
        "    print(\"No me gusta la economía\")"
      ],
      "metadata": {
        "id": "N_p05HdInN2T"
      },
      "execution_count": 32,
      "outputs": []
    },
    {
      "cell_type": "code",
      "source": [
        "estudiar = Estudiar()"
      ],
      "metadata": {
        "colab": {
          "base_uri": "https://localhost:8080/"
        },
        "id": "VudMENnvnieD",
        "outputId": "9ba69eef-11f9-4411-ea72-6139addc3ca2"
      },
      "execution_count": 33,
      "outputs": [
        {
          "output_type": "stream",
          "name": "stdout",
          "text": [
            "Creamos una clase madre\n",
            "Creamos una clase heredada\n"
          ]
        }
      ]
    },
    {
      "cell_type": "code",
      "source": [
        "estudiar.POO()"
      ],
      "metadata": {
        "colab": {
          "base_uri": "https://localhost:8080/"
        },
        "id": "AP3-mq97nmtd",
        "outputId": "ebbc4ece-88c6-4772-cfdb-c26021a249fa"
      },
      "execution_count": 34,
      "outputs": [
        {
          "output_type": "stream",
          "name": "stdout",
          "text": [
            "Me gusta programar\n"
          ]
        }
      ]
    },
    {
      "cell_type": "code",
      "source": [
        "estudiar.Calculo()"
      ],
      "metadata": {
        "colab": {
          "base_uri": "https://localhost:8080/"
        },
        "id": "MONUnNSAnpKW",
        "outputId": "caae5ebe-e61b-4ee9-af37-3473a23f98f3"
      },
      "execution_count": 35,
      "outputs": [
        {
          "output_type": "stream",
          "name": "stdout",
          "text": [
            "Soy malo en mate\n"
          ]
        }
      ]
    },
    {
      "cell_type": "code",
      "source": [
        "estudiar.Economia()"
      ],
      "metadata": {
        "colab": {
          "base_uri": "https://localhost:8080/"
        },
        "id": "1KqsLbB5n6B3",
        "outputId": "5f8f1d87-c6c0-467d-c1dc-864868382dab"
      },
      "execution_count": 36,
      "outputs": [
        {
          "output_type": "stream",
          "name": "stdout",
          "text": [
            "No me gusta la economía\n"
          ]
        }
      ]
    }
  ]
}