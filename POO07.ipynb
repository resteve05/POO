{
  "nbformat": 4,
  "nbformat_minor": 0,
  "metadata": {
    "colab": {
      "provenance": []
    },
    "kernelspec": {
      "name": "python3",
      "display_name": "Python 3"
    },
    "language_info": {
      "name": "python"
    }
  },
  "cells": [
    {
      "cell_type": "markdown",
      "source": [
        "#Ejemplo de clases y herencias\n",
        "\n"
      ],
      "metadata": {
        "id": "yEtrRzvRuPT0"
      }
    },
    {
      "cell_type": "code",
      "execution_count": 1,
      "metadata": {
        "id": "sO2I4A6_totM"
      },
      "outputs": [],
      "source": [
        "#Crear una clase\n",
        "class Fecha():\n",
        "\n",
        "    def _init_(self): #Definir los variables\n",
        "        print(\"Creamos una clase que da la fecha\")\n",
        "\n",
        "    def fecha(self):\n",
        "        return \"2024-16-02\""
      ]
    },
    {
      "cell_type": "code",
      "source": [
        "f = Fecha() #Conectar variables"
      ],
      "metadata": {
        "id": "NZRgpVYFuYuP"
      },
      "execution_count": 2,
      "outputs": []
    },
    {
      "cell_type": "code",
      "source": [
        "f.fecha() #Ejecutar variables"
      ],
      "metadata": {
        "colab": {
          "base_uri": "https://localhost:8080/",
          "height": 35
        },
        "id": "poSSsDwEucCH",
        "outputId": "3093c9b5-66c7-4464-bebf-07c83690f5c5"
      },
      "execution_count": 4,
      "outputs": [
        {
          "output_type": "execute_result",
          "data": {
            "text/plain": [
              "'2024-16-02'"
            ],
            "application/vnd.google.colaboratory.intrinsic+json": {
              "type": "string"
            }
          },
          "metadata": {},
          "execution_count": 4
        }
      ]
    },
    {
      "cell_type": "code",
      "source": [
        "class Tiempo(Fecha):\n",
        "\n",
        "    def _init_(self):\n",
        "        Fecha._init_(self)\n",
        "        print(\"Creamos una clase Tiempo\")\n",
        "\n",
        "    def hora(self):\n",
        "        return \"7:00\""
      ],
      "metadata": {
        "id": "JBY2TM8iujFO"
      },
      "execution_count": 5,
      "outputs": []
    },
    {
      "cell_type": "code",
      "source": [
        "t = Tiempo()\n",
        "\n",
        "t.hora()"
      ],
      "metadata": {
        "colab": {
          "base_uri": "https://localhost:8080/",
          "height": 35
        },
        "id": "PyVkqA7Zumod",
        "outputId": "ce31de8f-6a6b-49bc-82a0-5508ab62d04d"
      },
      "execution_count": 6,
      "outputs": [
        {
          "output_type": "execute_result",
          "data": {
            "text/plain": [
              "'7:00'"
            ],
            "application/vnd.google.colaboratory.intrinsic+json": {
              "type": "string"
            }
          },
          "metadata": {},
          "execution_count": 6
        }
      ]
    },
    {
      "cell_type": "markdown",
      "source": [
        "#Metodo\n",
        "_init_ inicializa la clase base. __init__ inicializa la clase base y sirve como constructor. Ojo: se ponen dos guiones abajo al principio y al final."
      ],
      "metadata": {
        "id": "1JLrkJY_urYE"
      }
    },
    {
      "cell_type": "code",
      "source": [
        "class Persona():\n",
        "\n",
        "    def __init__(self, nombre):\n",
        "        self.nombre = nombre\n",
        "\n",
        "    def greet(self):\n",
        "        print(\"Hola, mi nombre es\", self.nombre) #Ingresar el texto que es definido en el siguiente código"
      ],
      "metadata": {
        "id": "tayQ8FaVutKQ"
      },
      "execution_count": 7,
      "outputs": []
    },
    {
      "cell_type": "code",
      "source": [
        "p = Persona(\"Rodrigo\")"
      ],
      "metadata": {
        "id": "hzPZbyCmuwl8"
      },
      "execution_count": 8,
      "outputs": []
    },
    {
      "cell_type": "code",
      "source": [
        "p.greet()"
      ],
      "metadata": {
        "colab": {
          "base_uri": "https://localhost:8080/"
        },
        "id": "ecjDnhGtu0AI",
        "outputId": "d269c046-201c-4e6b-d8ee-573dd1151f8a"
      },
      "execution_count": 9,
      "outputs": [
        {
          "output_type": "stream",
          "name": "stdout",
          "text": [
            "Hola, mi nombre es Rodrigo\n"
          ]
        }
      ]
    },
    {
      "cell_type": "code",
      "source": [
        "class Complex():\n",
        "\n",
        "    def __init__(self, real, imaginaria): #Definir variables\n",
        "        self.r = real #Conectar el variable con su valor\n",
        "        self.i = imaginaria"
      ],
      "metadata": {
        "id": "_3GVCWNOu5I1"
      },
      "execution_count": 10,
      "outputs": []
    },
    {
      "cell_type": "code",
      "source": [
        "z = Complex(2.0,5.0) #Conectar variable con el que va a ejecutar"
      ],
      "metadata": {
        "id": "H1HqnCbXu7oi"
      },
      "execution_count": 13,
      "outputs": []
    },
    {
      "cell_type": "code",
      "source": [
        "z.r"
      ],
      "metadata": {
        "colab": {
          "base_uri": "https://localhost:8080/"
        },
        "id": "rLV6-lMyvCq4",
        "outputId": "9a6f0fde-1a2f-4bb1-9b7b-092a8dbe7688"
      },
      "execution_count": 14,
      "outputs": [
        {
          "output_type": "execute_result",
          "data": {
            "text/plain": [
              "2.0"
            ]
          },
          "metadata": {},
          "execution_count": 14
        }
      ]
    },
    {
      "cell_type": "code",
      "source": [
        "z.i"
      ],
      "metadata": {
        "colab": {
          "base_uri": "https://localhost:8080/"
        },
        "id": "NJHvgfCSvFc3",
        "outputId": "1baa5971-c75b-421f-ac44-b4ec07f6620c"
      },
      "execution_count": 16,
      "outputs": [
        {
          "output_type": "execute_result",
          "data": {
            "text/plain": [
              "5.0"
            ]
          },
          "metadata": {},
          "execution_count": 16
        }
      ]
    },
    {
      "cell_type": "code",
      "source": [
        "class Perro():\n",
        "\n",
        "    animal = \"perrito\"\n",
        "\n",
        "    def __init__(self, Raza, Color, Edad): #Definir multiples variables\n",
        "        self.Raza = Raza\n",
        "        self.Color = Color #No hay un return (no hay argumento) y no necesita @property\n",
        "        self.Edad = Edad\n"
      ],
      "metadata": {
        "id": "1OqXCsecvKC9"
      },
      "execution_count": 17,
      "outputs": []
    },
    {
      "cell_type": "code",
      "source": [
        "Bruno = Perro(\"golden retreiver\", \"blanco \", \"bebe\") #Conectar con los variables"
      ],
      "metadata": {
        "id": "ymZITpChvOQ4"
      },
      "execution_count": 36,
      "outputs": []
    },
    {
      "cell_type": "code",
      "source": [
        "print(\"Detalles de Bruno:\")\n",
        "\n",
        "print(\"Bruno es un\", Bruno.animal)\n",
        "\n",
        "print(\"La raza de Bruno es\", Bruno.Raza)\n",
        "\n",
        "print(\"El color de Bruno es\", Bruno.Color)\n",
        "\n",
        "print(\"La edad de Bruno es\", Bruno.Edad)"
      ],
      "metadata": {
        "colab": {
          "base_uri": "https://localhost:8080/"
        },
        "id": "Bgygz2fbvXLD",
        "outputId": "9d1abd25-4a3f-42bc-f12e-aee3b546ba9f"
      },
      "execution_count": 37,
      "outputs": [
        {
          "output_type": "stream",
          "name": "stdout",
          "text": [
            "Detalles de Bruno:\n",
            "Bruno es un perrito\n",
            "La raza de Bruno es golden retreiver\n",
            "El color de Bruno es blanco \n",
            "La edad de Bruno es bebe\n"
          ]
        }
      ]
    },
    {
      "cell_type": "markdown",
      "source": [
        "#Otro ejemplo\n"
      ],
      "metadata": {
        "id": "5jTmEtalv2TL"
      }
    },
    {
      "cell_type": "code",
      "source": [
        "class Empleados():\n",
        "\n",
        "    Conteo = 0 #Empezar con 0 empleados\n",
        "\n",
        "    def __init__(self, nombre, salario):\n",
        "        self.nombre = nombre\n",
        "        self.salario = salario\n",
        "        Empleados.Conteo += 1 #Agregar un empleado por cada definición de nombre y salario\n",
        "\n",
        "    def conteo(self):\n",
        "        print(\"Empleados %d\" % Empleados.Conteo) #Cuenta el número de empleados\n",
        "\n",
        "\n",
        "    def empleado(self):\n",
        "        print(\"Nombre:\", self.nombre, \", Salario:\", self.salario) #Programa ingresa el nombre y el salario en esos espacios"
      ],
      "metadata": {
        "id": "JfMBGFRXvfey"
      },
      "execution_count": 43,
      "outputs": []
    },
    {
      "cell_type": "code",
      "source": [
        "emp1 = Empleados(\"Juanito\", 20000)"
      ],
      "metadata": {
        "id": "Ufc-mKOivjFk"
      },
      "execution_count": 44,
      "outputs": []
    },
    {
      "cell_type": "code",
      "source": [
        "emp2 = Empleados(\"Pepito\", 35000)"
      ],
      "metadata": {
        "id": "3Cx9CbXAvmCn"
      },
      "execution_count": 45,
      "outputs": []
    },
    {
      "cell_type": "code",
      "source": [
        "emp2.empleado()"
      ],
      "metadata": {
        "colab": {
          "base_uri": "https://localhost:8080/"
        },
        "id": "_FFTitt9vniM",
        "outputId": "2acfd357-b25a-4e69-8eb0-7b1ac18b854b"
      },
      "execution_count": 46,
      "outputs": [
        {
          "output_type": "stream",
          "name": "stdout",
          "text": [
            "Nombre: Pepito , Salario: 35000\n"
          ]
        }
      ]
    },
    {
      "cell_type": "code",
      "source": [
        "Empleados.Conteo"
      ],
      "metadata": {
        "colab": {
          "base_uri": "https://localhost:8080/"
        },
        "id": "EnpNmzjCvqDX",
        "outputId": "55e11700-394f-4069-8d96-f1c223a5bf8f"
      },
      "execution_count": 47,
      "outputs": [
        {
          "output_type": "execute_result",
          "data": {
            "text/plain": [
              "2"
            ]
          },
          "metadata": {},
          "execution_count": 47
        }
      ]
    },
    {
      "cell_type": "code",
      "source": [
        "emp1 = Empleados(\"Juanito\", 20000)\n",
        "emp2 = Empleados(\"Pepito\", 35000)\n",
        "\n",
        "print(\"Total de empleados %d\" % Empleados.Conteo) #Cada vez que se corre el código se aumentan los empleados 2,4,6"
      ],
      "metadata": {
        "colab": {
          "base_uri": "https://localhost:8080/"
        },
        "id": "SVCg2g7kvuba",
        "outputId": "fc5693b1-775e-4ded-a8a5-78612c30f314"
      },
      "execution_count": 50,
      "outputs": [
        {
          "output_type": "stream",
          "name": "stdout",
          "text": [
            "Total de empleados 8\n"
          ]
        }
      ]
    },
    {
      "cell_type": "markdown",
      "source": [
        "#Clases, herencias y polimorfismos"
      ],
      "metadata": {
        "id": "TZ1pd5mmv6zE"
      }
    },
    {
      "cell_type": "code",
      "source": [
        "class Person:\n",
        "\n",
        "    def __init__(self, last_name, first_name, age, birthday):\n",
        "        self.__last_name = last_name\n",
        "        self.__first_name = first_name\n",
        "        self.__age = age\n",
        "        self.__birthday = birthday\n",
        "\n",
        "    @property #Crear todos los variables. Otra forma de hacerlo\n",
        "    def last_name(self):\n",
        "        return self.__last_name #Se usa property porque hay un return (es un argumento)\n",
        "\n",
        "    @property\n",
        "    def first_name(self):\n",
        "        return self.__first_name\n",
        "\n",
        "    @property\n",
        "    def age(self):\n",
        "        return self.__age\n",
        "\n",
        "    @property\n",
        "    def birthday(self):\n",
        "      self.__age = self.age + 1 #El variable birthday es 1 más que el variable age\n",
        "      return self.__age\n",
        "\n",
        "\n"
      ],
      "metadata": {
        "id": "Z_Yjlxs2v81e"
      },
      "execution_count": 72,
      "outputs": []
    },
    {
      "cell_type": "code",
      "source": [
        "esteve = Person(\"Esteve\", \"Rodrigo\", 18, 18)\n",
        "print(esteve.last_name)\n",
        "print(\"Tienes\", esteve.age)\n",
        "print(\"Feliz cumpleaños, ya tienes\", esteve.birthday, \"años\")"
      ],
      "metadata": {
        "colab": {
          "base_uri": "https://localhost:8080/"
        },
        "id": "7OZmu4yiwJK3",
        "outputId": "6660f64c-d7c8-4270-d571-a5b3387787ae"
      },
      "execution_count": 73,
      "outputs": [
        {
          "output_type": "stream",
          "name": "stdout",
          "text": [
            "Esteve\n",
            "Tienes 18\n",
            "Feliz cumpleaños, ya tienes 19 años\n"
          ]
        }
      ]
    },
    {
      "cell_type": "code",
      "source": [],
      "metadata": {
        "id": "H0_1Nick1Ra2"
      },
      "execution_count": null,
      "outputs": []
    },
    {
      "cell_type": "code",
      "source": [
        "class PrimeNumber:\n",
        "    def __init__(self, number):\n",
        "        self.number = number\n",
        "#No se necesita property porque el return es dentro del if\n",
        "    def is_prime(self):\n",
        "        if self.number < 2:\n",
        "            return False #Si número es menor a 2 no es primo entonces false\n",
        "        for i in range(2, int(self.number ** 0.5) + 1):\n",
        "            if self.number % i == 0:\n",
        "                return False\n",
        "        return True\n",
        "\n",
        "class PositivePrimeNumber(PrimeNumber):\n",
        "    def __init__(self, number):\n",
        "        if number <= 0:\n",
        "            raise ValueError(\"El número debe ser positivo\")\n",
        "        super().__init__(number)\n",
        "\n",
        "# Example usage:\n",
        "num1 = PrimeNumber(7)\n",
        "print(num1.is_prime())  # Output: True\n",
        "\n",
        "num2 = PositivePrimeNumber(11)\n",
        "print(num2.is_prime())  # Output: True"
      ],
      "metadata": {
        "colab": {
          "base_uri": "https://localhost:8080/"
        },
        "id": "XSW6sF-NwaEQ",
        "outputId": "004af722-4b65-4ad0-9053-cc713b9f3597"
      },
      "execution_count": 75,
      "outputs": [
        {
          "output_type": "stream",
          "name": "stdout",
          "text": [
            "True\n",
            "True\n"
          ]
        }
      ]
    }
  ]
}