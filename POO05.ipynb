{
  "nbformat": 4,
  "nbformat_minor": 0,
  "metadata": {
    "colab": {
      "provenance": []
    },
    "kernelspec": {
      "name": "python3",
      "display_name": "Python 3"
    },
    "language_info": {
      "name": "python"
    }
  },
  "cells": [
    {
      "cell_type": "code",
      "execution_count": 17,
      "metadata": {
        "id": "xskQHJnWzGh2"
      },
      "outputs": [],
      "source": [
        "import numpy as np"
      ]
    },
    {
      "cell_type": "code",
      "source": [
        "#seed es para poner el canal 1 asi estoy vinculando a un orden específico\n",
        "np.random.seed(1)\n",
        "\n",
        "np.random.randint(1,21, size = 15)\n"
      ],
      "metadata": {
        "colab": {
          "base_uri": "https://localhost:8080/"
        },
        "id": "_qidy0Vszc8W",
        "outputId": "540baa9e-0c86-42be-a700-f36329b2309d"
      },
      "execution_count": 18,
      "outputs": [
        {
          "output_type": "execute_result",
          "data": {
            "text/plain": [
              "array([ 6, 12, 13,  9, 10, 12,  6, 16,  1, 17,  2, 13,  8, 14,  7])"
            ]
          },
          "metadata": {},
          "execution_count": 18
        }
      ]
    },
    {
      "cell_type": "code",
      "source": [
        "#L.sort ordena de manera ascendente, de la lista random sacamos solo los pares\n",
        "L=[i for i in np.random.randint(1,21, size=40) if i%2 ==0]\n",
        "L.sort ()\n",
        "L"
      ],
      "metadata": {
        "colab": {
          "base_uri": "https://localhost:8080/"
        },
        "id": "GX9Je6trztBo",
        "outputId": "52dfbf92-c10a-4d98-e29b-5b59b054682f"
      },
      "execution_count": 19,
      "outputs": [
        {
          "output_type": "execute_result",
          "data": {
            "text/plain": [
              "[2,\n",
              " 4,\n",
              " 4,\n",
              " 6,\n",
              " 8,\n",
              " 8,\n",
              " 10,\n",
              " 10,\n",
              " 10,\n",
              " 10,\n",
              " 12,\n",
              " 12,\n",
              " 14,\n",
              " 14,\n",
              " 14,\n",
              " 16,\n",
              " 16,\n",
              " 18,\n",
              " 18,\n",
              " 18,\n",
              " 18,\n",
              " 20,\n",
              " 20]"
            ]
          },
          "metadata": {},
          "execution_count": 19
        }
      ]
    },
    {
      "cell_type": "code",
      "source": [
        "# muestra el número más alto\n",
        "L.pop(4)\n",
        "\n",
        "#L.pop(algun numero impar) se salta un numero en el conteo\n",
        "#L.pop(algun numero par) no se salta numero en el conteo"
      ],
      "metadata": {
        "colab": {
          "base_uri": "https://localhost:8080/"
        },
        "id": "ubulaO6V0EGi",
        "outputId": "65233973-9fe3-4b48-9833-8f430e5763fd"
      },
      "execution_count": 20,
      "outputs": [
        {
          "output_type": "execute_result",
          "data": {
            "text/plain": [
              "8"
            ]
          },
          "metadata": {},
          "execution_count": 20
        }
      ]
    },
    {
      "cell_type": "code",
      "source": [
        "#quita un número especificado\n",
        "L.remove(4)\n",
        "L"
      ],
      "metadata": {
        "colab": {
          "base_uri": "https://localhost:8080/"
        },
        "id": "GAHYIlB10Tlm",
        "outputId": "0964c26a-a0b0-461d-d34c-80ee008ea6e2"
      },
      "execution_count": 22,
      "outputs": [
        {
          "output_type": "execute_result",
          "data": {
            "text/plain": [
              "[2, 6, 8, 10, 10, 10, 10, 12, 12, 14, 14, 14, 16, 16, 18, 18, 18, 18, 20, 20]"
            ]
          },
          "metadata": {},
          "execution_count": 22
        }
      ]
    },
    {
      "cell_type": "code",
      "source": [
        "# agrega el numero\n",
        "L+[4]"
      ],
      "metadata": {
        "colab": {
          "base_uri": "https://localhost:8080/"
        },
        "id": "gy7ROc1V0f8x",
        "outputId": "1c0c9dce-ee45-4470-8595-25833b10f27d"
      },
      "execution_count": 10,
      "outputs": [
        {
          "output_type": "execute_result",
          "data": {
            "text/plain": [
              "[2,\n",
              " 4,\n",
              " 6,\n",
              " 8,\n",
              " 8,\n",
              " 10,\n",
              " 10,\n",
              " 10,\n",
              " 10,\n",
              " 12,\n",
              " 12,\n",
              " 14,\n",
              " 14,\n",
              " 14,\n",
              " 16,\n",
              " 16,\n",
              " 18,\n",
              " 18,\n",
              " 18,\n",
              " 18,\n",
              " 20,\n",
              " 4]"
            ]
          },
          "metadata": {},
          "execution_count": 10
        }
      ]
    },
    {
      "cell_type": "code",
      "source": [
        "#convertir L en un vector\n",
        "L_arreglo=np.array(L)\n",
        "L_arreglo\n"
      ],
      "metadata": {
        "colab": {
          "base_uri": "https://localhost:8080/"
        },
        "id": "y8xqflkd0k4b",
        "outputId": "30985116-3c4c-475c-9027-c2b9b3eb0e5e"
      },
      "execution_count": 23,
      "outputs": [
        {
          "output_type": "execute_result",
          "data": {
            "text/plain": [
              "array([ 2,  6,  8, 10, 10, 10, 10, 12, 12, 14, 14, 14, 16, 16, 18, 18, 18,\n",
              "       18, 20, 20])"
            ]
          },
          "metadata": {},
          "execution_count": 23
        }
      ]
    },
    {
      "cell_type": "code",
      "source": [
        "#determinamos el largo del vector, si el vector es primo no se puede crear (1*primo)\n",
        "len(L_arreglo)"
      ],
      "metadata": {
        "colab": {
          "base_uri": "https://localhost:8080/"
        },
        "id": "gQeHaTWN0tiX",
        "outputId": "84d37506-93de-4f3f-9a16-8f2310f89549"
      },
      "execution_count": 24,
      "outputs": [
        {
          "output_type": "execute_result",
          "data": {
            "text/plain": [
              "20"
            ]
          },
          "metadata": {},
          "execution_count": 24
        }
      ]
    },
    {
      "cell_type": "code",
      "source": [
        "#creamos la matriz\n",
        "L_arreglo.reshape(10,2)\n"
      ],
      "metadata": {
        "colab": {
          "base_uri": "https://localhost:8080/"
        },
        "id": "1UIPkr9f1ECy",
        "outputId": "c7949c38-0f22-4070-d038-f7903ba17510"
      },
      "execution_count": 25,
      "outputs": [
        {
          "output_type": "execute_result",
          "data": {
            "text/plain": [
              "array([[ 2,  6],\n",
              "       [ 8, 10],\n",
              "       [10, 10],\n",
              "       [10, 12],\n",
              "       [12, 14],\n",
              "       [14, 14],\n",
              "       [16, 16],\n",
              "       [18, 18],\n",
              "       [18, 18],\n",
              "       [20, 20]])"
            ]
          },
          "metadata": {},
          "execution_count": 25
        }
      ]
    },
    {
      "cell_type": "code",
      "source": [
        "#forma la matriz\n",
        "L_arreglo.reshape(5,4)"
      ],
      "metadata": {
        "colab": {
          "base_uri": "https://localhost:8080/"
        },
        "id": "6Kr1_Ker1KZj",
        "outputId": "b608817b-e97a-49fc-93b7-02d4054889ed"
      },
      "execution_count": 27,
      "outputs": [
        {
          "output_type": "execute_result",
          "data": {
            "text/plain": [
              "array([[ 2,  6,  8, 10],\n",
              "       [10, 10, 10, 12],\n",
              "       [12, 14, 14, 14],\n",
              "       [16, 16, 18, 18],\n",
              "       [18, 18, 20, 20]])"
            ]
          },
          "metadata": {},
          "execution_count": 27
        }
      ]
    },
    {
      "cell_type": "code",
      "source": [
        "#crea la matriz\n",
        "M=np.array([2,3,14,19,13,0,5,25,69])\n",
        "M"
      ],
      "metadata": {
        "colab": {
          "base_uri": "https://localhost:8080/"
        },
        "id": "YZBYtaXB1bdm",
        "outputId": "a53a54e0-c177-4095-8eb4-bb7f1fe08a2d"
      },
      "execution_count": 59,
      "outputs": [
        {
          "output_type": "execute_result",
          "data": {
            "text/plain": [
              "array([ 2,  3, 14, 19, 13,  0,  5, 25, 69])"
            ]
          },
          "metadata": {},
          "execution_count": 59
        }
      ]
    },
    {
      "cell_type": "code",
      "source": [
        "L_matriz = np.array([3,4,5,1,2,3,7,8,9]). reshape(3,3)\n",
        "L_matriz"
      ],
      "metadata": {
        "colab": {
          "base_uri": "https://localhost:8080/"
        },
        "id": "fzoPqzVa24fm",
        "outputId": "296197c5-f406-4288-8db5-60821f0b31b5"
      },
      "execution_count": 53,
      "outputs": [
        {
          "output_type": "execute_result",
          "data": {
            "text/plain": [
              "array([[3, 4, 5],\n",
              "       [1, 2, 3],\n",
              "       [7, 8, 9]])"
            ]
          },
          "metadata": {},
          "execution_count": 53
        }
      ]
    },
    {
      "cell_type": "code",
      "source": [
        "M_matriz = np.array([2,3,14,19,13,0,25,6,9]). reshape(3,3)\n",
        "M_matriz"
      ],
      "metadata": {
        "colab": {
          "base_uri": "https://localhost:8080/"
        },
        "id": "P5tVEFq71vis",
        "outputId": "f11f328d-b8f2-460f-cae9-245c42bdf458"
      },
      "execution_count": 51,
      "outputs": [
        {
          "output_type": "execute_result",
          "data": {
            "text/plain": [
              "array([[ 2,  3, 14],\n",
              "       [19, 13,  0],\n",
              "       [25,  6,  9]])"
            ]
          },
          "metadata": {},
          "execution_count": 51
        }
      ]
    },
    {
      "cell_type": "code",
      "source": [
        "# multiplicar vectores\n",
        "# vector es matriz de n*1\n",
        "# arreglo es matriz\n",
        "N = L_matriz @ M_matriz\n",
        "N"
      ],
      "metadata": {
        "colab": {
          "base_uri": "https://localhost:8080/"
        },
        "id": "eeJosVFM158k",
        "outputId": "bdaa2abc-c48c-4103-e7d1-dd8d1c74d4d8"
      },
      "execution_count": 54,
      "outputs": [
        {
          "output_type": "execute_result",
          "data": {
            "text/plain": [
              "array([[207,  91,  87],\n",
              "       [115,  47,  41],\n",
              "       [391, 179, 179]])"
            ]
          },
          "metadata": {},
          "execution_count": 54
        }
      ]
    },
    {
      "cell_type": "code",
      "source": [
        "#encontrar determinante\n",
        "np.linalg.det(N)"
      ],
      "metadata": {
        "colab": {
          "base_uri": "https://localhost:8080/"
        },
        "id": "AuBz2j4M2MPd",
        "outputId": "d207baff-8ec3-47ac-ebe6-6f0a5b91981f"
      },
      "execution_count": 55,
      "outputs": [
        {
          "output_type": "execute_result",
          "data": {
            "text/plain": [
              "0.0"
            ]
          },
          "metadata": {},
          "execution_count": 55
        }
      ]
    }
  ]
}