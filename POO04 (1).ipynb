{
  "nbformat": 4,
  "nbformat_minor": 0,
  "metadata": {
    "colab": {
      "provenance": []
    },
    "kernelspec": {
      "name": "python3",
      "display_name": "Python 3"
    },
    "language_info": {
      "name": "python"
    }
  },
  "cells": [
    {
      "cell_type": "code",
      "execution_count": 2,
      "metadata": {
        "id": "h17g8DP4XLfL"
      },
      "outputs": [],
      "source": [
        "def Area(b,l):\n",
        "  x = (b*l)/2\n",
        "  return x"
      ]
    },
    {
      "cell_type": "code",
      "source": [
        "Area (1,2)"
      ],
      "metadata": {
        "colab": {
          "base_uri": "https://localhost:8080/"
        },
        "id": "iJ2iNWPCXujS",
        "outputId": "a52bf80d-184d-4347-f672-ba8e46ed978e"
      },
      "execution_count": 3,
      "outputs": [
        {
          "output_type": "execute_result",
          "data": {
            "text/plain": [
              "1.0"
            ]
          },
          "metadata": {},
          "execution_count": 3
        }
      ]
    },
    {
      "cell_type": "code",
      "source": [
        "def Perimetro(b,l):\n",
        "  p=(b+2)+1\n",
        "  return p"
      ],
      "metadata": {
        "id": "2aZOqGu6aO5B"
      },
      "execution_count": 9,
      "outputs": []
    },
    {
      "cell_type": "code",
      "source": [
        "Perimetro (1,2)"
      ],
      "metadata": {
        "colab": {
          "base_uri": "https://localhost:8080/"
        },
        "id": "SwGinC_haeAc",
        "outputId": "8dcf48dc-9051-40c6-fdd0-42369b824714"
      },
      "execution_count": 10,
      "outputs": [
        {
          "output_type": "execute_result",
          "data": {
            "text/plain": [
              "4"
            ]
          },
          "metadata": {},
          "execution_count": 10
        }
      ]
    },
    {
      "cell_type": "code",
      "source": [
        "def numpar(x):\n",
        "  num=x%2\n",
        "  return num"
      ],
      "metadata": {
        "id": "QWa73Wjcom3e"
      },
      "execution_count": 11,
      "outputs": []
    },
    {
      "cell_type": "code",
      "source": [
        "numpar (9)"
      ],
      "metadata": {
        "colab": {
          "base_uri": "https://localhost:8080/"
        },
        "id": "6eystL8to1M4",
        "outputId": "fc97caec-94bc-4fc0-8619-c6ab133ed588"
      },
      "execution_count": 12,
      "outputs": [
        {
          "output_type": "execute_result",
          "data": {
            "text/plain": [
              "1"
            ]
          },
          "metadata": {},
          "execution_count": 12
        }
      ]
    },
    {
      "cell_type": "code",
      "source": [
        "x=123456\n",
        "\n",
        "if numpar(x)==0:\n",
        "  print(\"par\")\n",
        "else:\n",
        "  print (\"impar\")"
      ],
      "metadata": {
        "colab": {
          "base_uri": "https://localhost:8080/"
        },
        "id": "Pb_r9gspo5Fr",
        "outputId": "470d645d-02f4-4b08-9874-d4f86b57975e"
      },
      "execution_count": 13,
      "outputs": [
        {
          "output_type": "stream",
          "name": "stdout",
          "text": [
            "par\n"
          ]
        }
      ]
    },
    {
      "cell_type": "code",
      "source": [
        "n = int(input(\"Ingresa: \"))\n",
        "\n",
        "F = [i for i in range(1,n) if n%i==0]\n",
        "F"
      ],
      "metadata": {
        "colab": {
          "base_uri": "https://localhost:8080/"
        },
        "id": "d3Om2OmppPaM",
        "outputId": "c02dc500-5437-4c80-928f-9f8f5974919d"
      },
      "execution_count": 21,
      "outputs": [
        {
          "name": "stdout",
          "output_type": "stream",
          "text": [
            "Ingresa: 4096\n"
          ]
        },
        {
          "output_type": "execute_result",
          "data": {
            "text/plain": [
              "[1, 2, 4, 8, 16, 32, 64, 128, 256, 512, 1024, 2048]"
            ]
          },
          "metadata": {},
          "execution_count": 21
        }
      ]
    },
    {
      "cell_type": "code",
      "source": [
        "if (sum(F)==n):\n",
        "  print (\"Es perfecto\")\n",
        "else:\n",
        "  print (\"No es perfecto\")"
      ],
      "metadata": {
        "colab": {
          "base_uri": "https://localhost:8080/"
        },
        "id": "d8NUWd22rLA5",
        "outputId": "82014b74-3bf9-45e9-d058-768b238aca4d"
      },
      "execution_count": 22,
      "outputs": [
        {
          "output_type": "stream",
          "name": "stdout",
          "text": [
            "No es perfecto\n"
          ]
        }
      ]
    }
  ]
}