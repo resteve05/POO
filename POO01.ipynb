{
  "nbformat": 4,
  "nbformat_minor": 0,
  "metadata": {
    "colab": {
      "provenance": []
    },
    "kernelspec": {
      "name": "python3",
      "display_name": "Python 3"
    },
    "language_info": {
      "name": "python"
    }
  },
  "cells": [
    {
      "cell_type": "code",
      "execution_count": null,
      "metadata": {
        "id": "CvPuHIy0iPnM"
      },
      "outputs": [],
      "source": []
    },
    {
      "cell_type": "markdown",
      "source": [
        "# Primer objeto\n",
        "## Objetos en Python\n",
        "\n",
        "\n",
        "1.   Objetos\n",
        "2.   Listas\n",
        "3.   Conjuntos\n",
        "\n",
        "\n"
      ],
      "metadata": {
        "id": "6mv2Kj_Vjeum"
      }
    },
    {
      "cell_type": "markdown",
      "source": [
        "En Python se pueden realizar operaciones sobre objetos. Además, es útil para resolver un sistema de ecuaciones lineales.\n",
        "\n",
        "$$\n",
        "f(x,y)=\\begin{cases}\n",
        "x+2y &= 3 \\\\\n",
        "2x+4y &= 6\n",
        "\\end{cases}\n",
        "$$"
      ],
      "metadata": {
        "id": "aDkgnHA_lqhN"
      }
    },
    {
      "cell_type": "code",
      "source": [
        "print(\"Hola Mundo!\")"
      ],
      "metadata": {
        "colab": {
          "base_uri": "https://localhost:8080/"
        },
        "id": "hkd8A5ogqw71",
        "outputId": "362b5e85-7fb4-4199-b026-02e9ee66e83f"
      },
      "execution_count": 1,
      "outputs": [
        {
          "output_type": "stream",
          "name": "stdout",
          "text": [
            "Hola Mundo!\n"
          ]
        }
      ]
    },
    {
      "cell_type": "markdown",
      "source": [
        "## Primeros objetos\n",
        "\n",
        "\n",
        "1.   Números enteros\n",
        "2.   Números decimales o flotantes\n",
        "3.   Variables\n",
        "\n"
      ],
      "metadata": {
        "id": "ybVcSh11r2yq"
      }
    },
    {
      "cell_type": "code",
      "source": [
        "# Crear variables\n",
        "x = 7\n",
        "y = 3\n",
        "\n",
        "print(x/y)\n",
        "print(x-y)\n",
        "print(x*y)\n",
        "print(x+y)\n",
        "print(x**y)\n",
        "print(x//y)\n",
        "print(x%y)\n",
        "\n",
        "print(type(x/y))\n",
        "print(type(x-y))\n",
        "print(type(x*y))\n",
        "print(type(x+y))\n",
        "print(type(x**y))\n",
        "print(type(x//y))\n",
        "print(type(x%y))"
      ],
      "metadata": {
        "colab": {
          "base_uri": "https://localhost:8080/"
        },
        "id": "K4gYLhAosmyc",
        "outputId": "55bfe24f-1730-46ef-92ea-3dd9f2354106"
      },
      "execution_count": 33,
      "outputs": [
        {
          "output_type": "stream",
          "name": "stdout",
          "text": [
            "2.3333333333333335\n",
            "4\n",
            "21\n",
            "10\n",
            "343\n",
            "2\n",
            "1\n",
            "<class 'float'>\n",
            "<class 'int'>\n",
            "<class 'int'>\n",
            "<class 'int'>\n",
            "<class 'int'>\n",
            "<class 'int'>\n",
            "<class 'int'>\n"
          ]
        }
      ]
    },
    {
      "cell_type": "code",
      "source": [],
      "metadata": {
        "id": "MKQdvUscwX2S"
      },
      "execution_count": null,
      "outputs": []
    }
  ]
}