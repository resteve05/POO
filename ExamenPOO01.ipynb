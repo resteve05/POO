{
  "nbformat": 4,
  "nbformat_minor": 0,
  "metadata": {
    "colab": {
      "provenance": []
    },
    "kernelspec": {
      "name": "python3",
      "display_name": "Python 3"
    },
    "language_info": {
      "name": "python"
    }
  },
  "cells": [
    {
      "cell_type": "code",
      "execution_count": 55,
      "metadata": {
        "id": "aEYrhg7TnEcF"
      },
      "outputs": [],
      "source": [
        "import numpy as np\n",
        "class Formulas:\n",
        "\n",
        "    def __init__(self):\n",
        "      print(\"Creamos una clase\")\n",
        "\n",
        "class Triangulo(Formulas):\n",
        "  def __init__(self,lado):\n",
        "        self.perimetro = lado*3\n",
        "        self.area = ((3**(1/3))*(lado**2))/4\n",
        "\n",
        "class Arreglo(Formulas):\n",
        "  def __init__(self, Matriz):\n",
        "    self.Matriz = Matriz\n",
        "\n",
        "  def EnsenarLista(self):\n",
        "    self.Matriz=np.array([2,3,7,9,3,4,7,1,4,9,6,9,1,7,3,7]).reshape(4,4)\n",
        "\n",
        "\n",
        "  def Det(self):\n",
        "    a = np.linalg.det(self.Matriz)\n",
        "\n"
      ]
    },
    {
      "cell_type": "code",
      "source": [
        "formulas = Formulas()"
      ],
      "metadata": {
        "colab": {
          "base_uri": "https://localhost:8080/"
        },
        "id": "UrEMUHKMtBvi",
        "outputId": "d79a032c-9638-4568-b5c0-e63b325fcfc4"
      },
      "execution_count": 49,
      "outputs": [
        {
          "output_type": "stream",
          "name": "stdout",
          "text": [
            "Creamos una clase\n"
          ]
        }
      ]
    },
    {
      "cell_type": "code",
      "source": [
        "triangulo = Triangulo(3)"
      ],
      "metadata": {
        "id": "a6FyP-F8tvQR"
      },
      "execution_count": 50,
      "outputs": []
    },
    {
      "cell_type": "code",
      "source": [
        "triangulo.area"
      ],
      "metadata": {
        "colab": {
          "base_uri": "https://localhost:8080/"
        },
        "id": "Q4xVpHxLxluQ",
        "outputId": "e97ecb71-fff4-4874-b036-c7c1e742386e"
      },
      "execution_count": 51,
      "outputs": [
        {
          "output_type": "execute_result",
          "data": {
            "text/plain": [
              "3.245061533191669"
            ]
          },
          "metadata": {},
          "execution_count": 51
        }
      ]
    },
    {
      "cell_type": "code",
      "source": [
        "triangulo.perimetro"
      ],
      "metadata": {
        "colab": {
          "base_uri": "https://localhost:8080/"
        },
        "id": "BGmNym4QxnNo",
        "outputId": "d56368ac-7d26-492a-9f86-eac666af275f"
      },
      "execution_count": 52,
      "outputs": [
        {
          "output_type": "execute_result",
          "data": {
            "text/plain": [
              "9"
            ]
          },
          "metadata": {},
          "execution_count": 52
        }
      ]
    },
    {
      "cell_type": "code",
      "source": [
        "matriz = arreglo.EnsenarLista()\n",
        "matriz"
      ],
      "metadata": {
        "colab": {
          "base_uri": "https://localhost:8080/"
        },
        "id": "GuFIm6-06FtN",
        "outputId": "7c1387c3-0133-42cb-9788-e5a7284bc406"
      },
      "execution_count": 53,
      "outputs": [
        {
          "output_type": "execute_result",
          "data": {
            "text/plain": [
              "array([[2, 3, 7, 9],\n",
              "       [3, 4, 7, 1],\n",
              "       [4, 9, 6, 9],\n",
              "       [1, 7, 3, 7]])"
            ]
          },
          "metadata": {},
          "execution_count": 53
        }
      ]
    },
    {
      "cell_type": "code",
      "source": [
        "arreglo.Det()"
      ],
      "metadata": {
        "colab": {
          "base_uri": "https://localhost:8080/"
        },
        "id": "mj0ZLcL0795-",
        "outputId": "e8ecda75-9b75-4c78-dc36-1af69d72d760"
      },
      "execution_count": 54,
      "outputs": [
        {
          "output_type": "execute_result",
          "data": {
            "text/plain": [
              "-638.9999999999999"
            ]
          },
          "metadata": {},
          "execution_count": 54
        }
      ]
    }
  ]
}